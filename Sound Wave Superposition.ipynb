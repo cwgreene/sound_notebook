{
 "cells": [
  {
   "cell_type": "markdown",
   "metadata": {},
   "source": [
    "# Sound Waves Superposition"
   ]
  },
  {
   "cell_type": "markdown",
   "metadata": {},
   "source": [
    "So the first soundwave will be of the form\n",
    "\n",
    "$$ f_1(x, t) = f_1(kx-\\omega t) $$\n",
    "\n",
    "and the second will be\n",
    "\n",
    "\n",
    "$$ f_2(x, t) = f_2(kx-\\omega t) $$\n",
    "\n",
    "At the point $x$ at time $t$ the observed soundwave will be\n",
    "\n",
    "$$ f(x,t) = f_1(k(x-x_1) - \\omega t) + f_2(k(x-x_2) - \\omega t) $$"
   ]
  },
  {
   "cell_type": "markdown",
   "metadata": {},
   "source": [
    "If $f_1$ and $f_2$ are the same frequency, then we'll observe a position dependent phase shift.\n",
    "\n"
   ]
  },
  {
   "cell_type": "markdown",
   "metadata": {},
   "source": [
    "$$ \\begin{align}\n",
    "sin(k(x-x_1) - \\omega t) + sin(k(x-x_2) - \\omega t) = \\\\\n",
    "sin(a) + sin(b) = \n",
    "\\end{align}\n",
    "$$"
   ]
  },
  {
   "cell_type": "markdown",
   "metadata": {},
   "source": [
    "## Phasors... Shit, how do these work again?"
   ]
  },
  {
   "cell_type": "markdown",
   "metadata": {},
   "source": [
    "And here I realize that I can no longer remember why adding two sinusoids together naturally results in a phase shifted sin function, or even how the whole ... what's it called? The vectory thingies that we use... phasors!"
   ]
  },
  {
   "cell_type": "markdown",
   "metadata": {},
   "source": [
    "\n",
    "Right, phasors. I remember that phasors let me add together two sinuosoids to get a new one, but I'm trying to remember why this should be obvious... :("
   ]
  },
  {
   "cell_type": "markdown",
   "metadata": {},
   "source": [
    "Right; Phasors are basically just going from\n",
    "\n",
    "$$ sin(t + \\phi) = sin(t)cos(\\phi) + sin(\\phi)cos(t) $$\n",
    "\n",
    "In reverse (right hand side to left hand side ($\\leftarrow$)), where we simply recast the $\\phi$..."
   ]
  },
  {
   "cell_type": "markdown",
   "metadata": {},
   "source": [
    "Screw that! I've forgotten the golden rule: \"Never work with sinusoids when you can work with exponentials. Everything is so much more obvious when you're in the complex plane\""
   ]
  },
  {
   "cell_type": "markdown",
   "metadata": {},
   "source": [
    "$$\n",
    "\\begin{align}\n",
    "sin(\\omega t + \\phi) + sin(\\omega t + \\phi_2)= \\frac{e^{j(\\omega t + \\phi)} - e^{j(\\omega t+\\phi)}}{2i} + \\frac{e^{j(\\omega t + \\phi_2)} - e^{j(\\omega t+\\phi_2)}}{2i} \n",
    "\\end{align}\n",
    "$$"
   ]
  },
  {
   "cell_type": "markdown",
   "metadata": {},
   "source": [
    "$$\n",
    "= \\frac{e^{j\\omega t}e^{j\\phi} - e^{j\\omega t}e^{\\phi}}{2i}\n",
    "+ \\frac{e^{j\\omega t}e^{j\\phi_2} - e^{j\\omega t}e^{\\phi_2}}{2i}\\\\\n",
    "$$"
   ]
  },
  {
   "cell_type": "markdown",
   "metadata": {},
   "source": [
    "$$=\\frac{e^{jwt}(e^{j\\phi}+e^{j\\phi_2}) - e^{j\\omega t}(e^{j\\phi}+e^{j\\phi_2})}{2i}$$"
   ]
  },
  {
   "cell_type": "markdown",
   "metadata": {},
   "source": [
    "So it's a sinusoid again! Huzzah! All we have to do is resolve the complex addition of $e^{j\\phi} + e^{j\\phi_2}$ and turn that back into something of the form $A e^{j\\phi_3}$ and we're done! Now we remember why we made little triangle diagrams back in the day!"
   ]
  },
  {
   "cell_type": "markdown",
   "metadata": {},
   "source": [
    "## Alright, Back to work!\n",
    "So what we can do now is get an expression of phase in terms of $x_1$, $x_2$, and $\\phi_1$ and $\\phi_2$. That's not super useful! Ignoring the issue of $\\phi_1$ and $\\phi_2$ for a moment (that's basically the phase shift caused by the two devices starting up, and theoretically could be resolved by sending that information over wifi, but lets call those time offsets $t_1$ and $t_2$) we still have $x_1$ and $x_2$, so we would still have two unknowns. However, if we introduce a second frequency, we can resolve this!"
   ]
  },
  {
   "cell_type": "markdown",
   "metadata": {},
   "source": [
    "So with a single frequency we get\n",
    "$$e^{j\\phi_1}+e^{j\\phi_2}$$\n",
    "$$\\phi_1 = k(x-x_1) + \\omega t_1$$\n",
    "$$\\phi_2 = k(x-x_2) + \\omega t_2$$\n",
    "$$Ae^{j\\phi_3} = (\\cos(\\phi_1) + \\cos(\\phi_2))+(\\sin(\\phi_1)+\\sin(\\phi_2))j$$\n",
    "$$\\phi_3 = \\tan^{-1}\\frac{\\sin(\\phi_1)+\\sin(\\phi_2)}{\\cos(\\phi_1)+\\cos(\\phi_2)}$$\n",
    "$$A = \\sqrt{(\\cos^2\\phi_1+\\sin^2\\phi_1)+(\\cos^2\\phi_2+\\sin^2\\phi_1) + (2\\cos\\phi_1\\cos\\phi_2+2\\sin\\phi_1\\sin\\phi_2)}\\\\=\\sqrt{2-2\\cos(\\phi_1-\\phi_2)} (wrong!)$$\n"
   ]
  },
  {
   "cell_type": "markdown",
   "metadata": {},
   "source": [
    "\n",
    "That last equation looks wrong. It's 0 if $\\phi_1=\\phi_2$ and I don't see why that should be the case. If $\\phi_1$ and $\\phi_2$ are equal, it should be complete constructive interference. I'd be fine if it were $\\sin$, but it's $\\cos$ so I'm a bit confused.\n",
    "\n",
    "Actually, if I flip the sign, it works, because then it's $4$ when they're equal, which is what we actually want; however, I can't figure out why it's not negative now. (we make it negative by making the two functions $180^\\circ$ out of phase, which is definitely what we want.\n",
    "\n",
    "It's wrong becuase there no reason for it to be negative. Flipping the sign inside cosine doesn't affect the sign OUTSIDE! D'uh!"
   ]
  },
  {
   "cell_type": "markdown",
   "metadata": {},
   "source": [
    "$$A = \\sqrt{2+2\\cos(\\phi_1-\\phi_2)}$$\n",
    "\n",
    "And there was much rejoicing!\n",
    "\n",
    "Now plugging back in values for the $\\phi$'s:\n",
    "\n",
    "$$A = \\sqrt{2}\\sqrt{1+\\cos(k(x_2-x_1) + \\omega (t_1-t_2))}$$\n",
    "$$A = \\sqrt{2}\\sqrt{1+\\cos(k\\Delta x - \\omega\\Delta t)}$$"
   ]
  },
  {
   "cell_type": "markdown",
   "metadata": {},
   "source": [
    "Unfortunately, we can only use that equation so much; because if the amplitudes of the two waves are different, $A$ is no where nearly so nice, we have to go back to the full equation and instead get:\n",
    "\n",
    "$$C = \\sqrt{A^2+B^2 + 2AB\\cos\\phi_1\\cos\\phi_2 + 2AB\\sin\\phi_1\\phi_2}$$"
   ]
  },
  {
   "cell_type": "markdown",
   "metadata": {},
   "source": [
    "Oh, that actually isn't bad at all! It simplifies to\n",
    "\n",
    "$$C = \\sqrt{A^2+B^2 + 2AB\\cos(\\phi_1-\\phi_2)}$$\n",
    "$$C = \\sqrt{A^2+B^2 + 2AB\\cos(k\\Delta x - \\omega\\Delta t)}$$"
   ]
  },
  {
   "cell_type": "markdown",
   "metadata": {},
   "source": [
    "And $\\phi_3$ likewise simply becomes:\n",
    "    \n",
    "$$\\phi_3 = \\tan^{-1}\\frac{A \\sin(\\phi_1)+B\\sin(\\phi_2)}{A\\cos(\\phi_1)+B\\cos(\\phi_2)}$$"
   ]
  },
  {
   "cell_type": "markdown",
   "metadata": {},
   "source": [
    "Okay, again, assuming that $\\Delta t$ can be assume to be known, we can either attempt to solve the measured $\\phi_3$ phase shift equation and the Amplitude equation. I'd rather just solve multiple phase shift equations, because I suspect that they'll be less noisy than the amplitude signal. However, we can clearly see that we need the original amplitudes of $A$ and $B$ anyhow, and the relative shift will be ultitimately be affected by volume drop off (which I've been completely ignoring). Oh noes!"
   ]
  },
  {
   "cell_type": "markdown",
   "metadata": {
    "collapsed": true
   },
   "source": [
    "## Another concern\n",
    "The values of both $\\phi_1$ and $\\phi_2$ are both unbounded; which means that the argument passed to $\\tan^{-1}$ is periodic, which means that $\\phi_3$ is also periodic, even when A and B are known. Which means that space is being broken up into non-distingushable regions. This issue might go away (or change) after we take back into account drop off. It's still interesting though, so I should investigate it in the pure form."
   ]
  },
  {
   "cell_type": "markdown",
   "metadata": {
    "collapsed": true
   },
   "source": [
    " ## Testing!\n",
    " \n",
    " Alright, let's go test these equations!"
   ]
  },
  {
   "cell_type": "code",
   "execution_count": 4,
   "metadata": {
    "collapsed": true
   },
   "outputs": [],
   "source": [
    "import numpy"
   ]
  },
  {
   "cell_type": "code",
   "execution_count": 55,
   "metadata": {
    "collapsed": true
   },
   "outputs": [],
   "source": [
    "def add_sinusoids(sin1, sin2):\n",
    "    s = numpy.sin\n",
    "    c = numpy.cos\n",
    "    A, phi1 = sin1\n",
    "    B, phi2 = sin2\n",
    "    C = numpy.sqrt(A**2+B**2+2*A*B*numpy.cos(phi1-phi2))\n",
    "    phi3 = numpy.arctan2(A*s(phi1)+B*s(phi2), A*c(phi1)+B*c(phi2))\n",
    "    return (C, phi3)"
   ]
  },
  {
   "cell_type": "code",
   "execution_count": 28,
   "metadata": {
    "collapsed": true
   },
   "outputs": [],
   "source": [
    "def numeric_sinusoid(sinusoid):\n",
    "    A, phi = sinusoid\n",
    "    return numpy.vectorize(lambda x: A*numpy.sin(x+phi))"
   ]
  },
  {
   "cell_type": "code",
   "execution_count": 13,
   "metadata": {
    "collapsed": false
   },
   "outputs": [
    {
     "data": {
      "text/plain": [
       "(1.4142135623730951, 0.78539816339744828)"
      ]
     },
     "execution_count": 13,
     "metadata": {},
     "output_type": "execute_result"
    }
   ],
   "source": [
    "add_sinusoids((1, 0), (1, numpy.pi/2))"
   ]
  },
  {
   "cell_type": "code",
   "execution_count": 15,
   "metadata": {
    "collapsed": true
   },
   "outputs": [],
   "source": [
    "%matplotlib inline\n",
    "import matplotlib\n",
    "import numpy as np\n",
    "import matplotlib.pyplot as plt"
   ]
  },
  {
   "cell_type": "code",
   "execution_count": 56,
   "metadata": {
    "collapsed": false
   },
   "outputs": [
    {
     "data": {
      "text/plain": [
       "[<matplotlib.lines.Line2D at 0x7feaa935e490>]"
      ]
     },
     "execution_count": 56,
     "metadata": {},
     "output_type": "execute_result"
    },
    {
     "data": {
      "image/png": "[encoded data removed]",
      "text/plain": [
       "<matplotlib.figure.Figure at 0x7feaa9b38ed0>"
      ]
     },
     "metadata": {},
     "output_type": "display_data"
    }
   ],
   "source": [
    "x = np.arange(0,10,.01)\n",
    "y1 = 2*numpy.sin(x+np.pi/6)\n",
    "y2 = 3*numpy.sin(x+np.pi/2)\n",
    "C, phi3 = add_sinusoids((2,np.pi/6), (3,numpy.pi/2))\n",
    "plt.plot(x, y1+y2, 'r')\n",
    "plt.plot(x, C*numpy.sin(x+phi3), 'b')\n",
    "plt.plot(x, y1+y2-C*numpy.sin(x+phi3), 'g')"
   ]
  },
  {
   "cell_type": "code",
   "execution_count": 33,
   "metadata": {
    "collapsed": false
   },
   "outputs": [
    {
     "data": {
      "text/plain": [
       "9.9900000000000002"
      ]
     },
     "execution_count": 33,
     "metadata": {},
     "output_type": "execute_result"
    }
   ],
   "source": [
    "x[999]"
   ]
  },
  {
   "cell_type": "code",
   "execution_count": 45,
   "metadata": {
    "collapsed": false
   },
   "outputs": [
    {
     "data": {
      "text/plain": [
       "(4.0, 1.1621584716973041)"
      ]
     },
     "execution_count": 45,
     "metadata": {},
     "output_type": "execute_result"
    }
   ],
   "source": [
    "add_sinusoids((2,np.pi/6), (3,numpy.pi/2))"
   ]
  },
  {
   "cell_type": "markdown",
   "metadata": {
    "collapsed": true
   },
   "source": [
    "## Extracting Amplitude (wrong)\n",
    "Probably the easiest way, that will also allow me to deal with errors, is to simply evaluate\n",
    "\n",
    "$$ \\int^{T}_0 \\sin(\\omega t+\\phi) A \\sin(\\omega t + \\phi) = \\frac{A \\pi}{2} $$\n",
    "$$ A = \\frac{2}{\\pi}\\int^{T}_0 \\sin(\\omega t+\\phi) A \\sin(\\omega t + \\phi) $$"
   ]
  },
  {
   "cell_type": "markdown",
   "metadata": {},
   "source": [
    "which can easily be evaluated with\n",
    "\n",
    "```\n",
    "np.dot(data, data)\n",
    "```"
   ]
  },
  {
   "cell_type": "markdown",
   "metadata": {},
   "source": [
    "## Extracting Phase (wrong)\n",
    "Likewise once Amplitude has been deterimined, we can run...\n",
    "\n",
    "After reconsidering the situation, the above is stupid. This is what should be done instead.\n",
    "\n",
    "## Extracting Amplitude\n",
    "$$ \\int^{T}_0 \\sin(\\omega t) A \\sin(\\omega t + \\phi) = \\frac{A \\pi\\cos(\\phi)}{\\omega} $$"
   ]
  },
  {
   "cell_type": "markdown",
   "metadata": {},
   "source": [
    "$$ \\int^{T}_0 \\cos(\\omega t) A \\sin(\\omega t + \\phi) = \\frac{A \\pi\\sin(\\phi)}{\\omega} $$"
   ]
  },
  {
   "cell_type": "markdown",
   "metadata": {},
   "source": [
    "So\n",
    "\n",
    "$$ A = 2\\sqrt{\\left(\\int^{T}_0 \\sin(\\omega t) A \\sin(\\omega t + \\phi)\\right)^2+\\left(\\int^{T}_0\n",
    "\\cos(\\omega t) A \\sin(\\omega t + \\phi)\\right)^2}$$\n",
    "\n",
    "And from that, $\\phi$ can quickly be resolved."
   ]
  },
  {
   "cell_type": "code",
   "execution_count": 61,
   "metadata": {
    "collapsed": true
   },
   "outputs": [],
   "source": [
    "def extract_amplitude(t, frequency, data):\n",
    "    s = np.dot(np.sin(frequency*t), data)\n",
    "    c = np.odt(np.cos(frequency*t), data)\n",
    "    A = 2* np.sqrt(s**2 + c**2)\n",
    "    return A \n"
   ]
  },
  {
   "cell_type": "markdown",
   "metadata": {},
   "source": [
    "So the above function assumes that there is only one period in the data, let's fix that.\n",
    "\n",
    "$$ \\int^{nT}_0 \\cos(\\omega t) A \\sin(\\omega t + \\phi) \\approx n\\frac{A\\pi \\sin(\\phi)}{\\omega} $$\n",
    "\n",
    "Approximate because I'm ignoring the left over."
   ]
  },
  {
   "cell_type": "code",
   "execution_count": 118,
   "metadata": {
    "collapsed": false
   },
   "outputs": [],
   "source": [
    "def extract_amplitude(t, frequency, data):\n",
    "    total_t = t[-1] - t[0]\n",
    "    dt = t[1]-t[0]\n",
    "    n = total_t * frequency\n",
    "    s = np.dot(np.sin(np.pi*2*frequency*t)*dt, data)\n",
    "    c = np.dot(np.cos(np.pi*2*frequency*t)*dt, data)\n",
    "    A = (2*np.pi*frequency* np.sqrt(s**2 + c**2))/(n*np.pi)\n",
    "    return A "
   ]
  },
  {
   "cell_type": "code",
   "execution_count": 120,
   "metadata": {
    "collapsed": false
   },
   "outputs": [
    {
     "data": {
      "text/plain": [
       "4.2006047196632563"
      ]
     },
     "execution_count": 120,
     "metadata": {},
     "output_type": "execute_result"
    }
   ],
   "source": [
    "# Testing!\n",
    "t = np.arange(0,20*np.pi*2,.01)\n",
    "extract_amplitude(t, 5, 4.2*np.sin(5*2*np.pi*t))"
   ]
  },
  {
   "cell_type": "markdown",
   "metadata": {},
   "source": [
    "Okay, I cheated a bit deriving the original integral above (change a variables quickly fixes the issue), and will need to fix it. But anyhow, this works!"
   ]
  },
  {
   "cell_type": "code",
   "execution_count": null,
   "metadata": {
    "collapsed": true
   },
   "outputs": [],
   "source": []
  }
 ],
 "metadata": {
  "kernelspec": {
   "display_name": "Python 2",
   "language": "python",
   "name": "python2"
  },
  "language_info": {
   "codemirror_mode": {
    "name": "ipython",
    "version": 2
   },
   "file_extension": ".py",
   "mimetype": "text/x-python",
   "name": "python",
   "nbconvert_exporter": "python",
   "pygments_lexer": "ipython2",
   "version": "2.7.12"
  }
 },
 "nbformat": 4,
 "nbformat_minor": 0
}
