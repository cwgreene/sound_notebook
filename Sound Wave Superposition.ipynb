{
 "cells": [
  {
   "cell_type": "markdown",
   "metadata": {},
   "source": [
    "# Init"
   ]
  },
  {
   "cell_type": "code",
   "execution_count": 1,
   "metadata": {
    "collapsed": true
   },
   "outputs": [],
   "source": [
    "import numpy\n",
    "\n",
    "%matplotlib inline\n",
    "import matplotlib\n",
    "import numpy as np\n",
    "import matplotlib.pyplot as plt"
   ]
  },
  {
   "cell_type": "markdown",
   "metadata": {},
   "source": [
    "# Sound Waves Superposition"
   ]
  },
  {
   "cell_type": "markdown",
   "metadata": {},
   "source": [
    "So the first soundwave will be of the form\n",
    "\n",
    "$$ f_1(x, t) = f_1(kx-\\omega t) $$\n",
    "\n",
    "and the second will be\n",
    "\n",
    "\n",
    "$$ f_2(x, t) = f_2(kx-\\omega t) $$\n",
    "\n",
    "At the point $x$ at time $t$ the observed soundwave will be\n",
    "\n",
    "$$ f(x,t) = f_1(k(x-x_1) - \\omega t) + f_2(k(x-x_2) - \\omega t) $$"
   ]
  },
  {
   "cell_type": "markdown",
   "metadata": {},
   "source": [
    "If $f_1$ and $f_2$ are the same frequency, then we'll observe a position dependent phase shift.\n",
    "\n"
   ]
  },
  {
   "cell_type": "markdown",
   "metadata": {},
   "source": [
    "$$ \\begin{align}\n",
    "sin(k(x-x_1) - \\omega t) + sin(k(x-x_2) - \\omega t) = \\\\\n",
    "sin(a) + sin(b) = \n",
    "\\end{align}\n",
    "$$"
   ]
  },
  {
   "cell_type": "markdown",
   "metadata": {},
   "source": [
    "## Phasors... Shit, how do these work again?"
   ]
  },
  {
   "cell_type": "markdown",
   "metadata": {},
   "source": [
    "And here I realize that I can no longer remember why adding two sinusoids together naturally results in a phase shifted sin function, or even how the whole ... what's it called? The vectory thingies that we use... phasors!"
   ]
  },
  {
   "cell_type": "markdown",
   "metadata": {},
   "source": [
    "\n",
    "Right, phasors. I remember that phasors let me add together two sinuosoids to get a new one, but I'm trying to remember why this should be obvious... :("
   ]
  },
  {
   "cell_type": "markdown",
   "metadata": {},
   "source": [
    "Right; Phasors are basically just going from\n",
    "\n",
    "$$ sin(t + \\phi) = sin(t)cos(\\phi) + sin(\\phi)cos(t) $$\n",
    "\n",
    "In reverse (right hand side to left hand side ($\\leftarrow$)), where we simply recast the $\\phi$..."
   ]
  },
  {
   "cell_type": "markdown",
   "metadata": {},
   "source": [
    "Screw that! I've forgotten the golden rule: \"Never work with sinusoids when you can work with exponentials. Everything is so much more obvious when you're in the complex plane\""
   ]
  },
  {
   "cell_type": "markdown",
   "metadata": {},
   "source": [
    "$$\n",
    "\\begin{align}\n",
    "sin(\\omega t + \\phi) + sin(\\omega t + \\phi_2)= \\frac{e^{j(\\omega t + \\phi)} - e^{j(\\omega t+\\phi)}}{2i} + \\frac{e^{j(\\omega t + \\phi_2)} - e^{j(\\omega t+\\phi_2)}}{2i} \n",
    "\\end{align}\n",
    "$$"
   ]
  },
  {
   "cell_type": "markdown",
   "metadata": {},
   "source": [
    "$$\n",
    "= \\frac{e^{j\\omega t}e^{j\\phi} - e^{j\\omega t}e^{\\phi}}{2i}\n",
    "+ \\frac{e^{j\\omega t}e^{j\\phi_2} - e^{j\\omega t}e^{\\phi_2}}{2i}\\\\\n",
    "$$"
   ]
  },
  {
   "cell_type": "markdown",
   "metadata": {},
   "source": [
    "$$=\\frac{e^{jwt}(e^{j\\phi}+e^{j\\phi_2}) - e^{j\\omega t}(e^{j\\phi}+e^{j\\phi_2})}{2i}$$"
   ]
  },
  {
   "cell_type": "markdown",
   "metadata": {},
   "source": [
    "So it's a sinusoid again! Huzzah! All we have to do is resolve the complex addition of $e^{j\\phi} + e^{j\\phi_2}$ and turn that back into something of the form $A e^{j\\phi_3}$ and we're done! Now we remember why we made little triangle diagrams back in the day!"
   ]
  },
  {
   "cell_type": "markdown",
   "metadata": {},
   "source": [
    "## Alright, Back to work!\n",
    "So what we can do now is get an expression of phase in terms of $x_1$, $x_2$, and $\\phi_1$ and $\\phi_2$. That's not super useful! Ignoring the issue of $\\phi_1$ and $\\phi_2$ for a moment (that's basically the phase shift caused by the two devices starting up, and theoretically could be resolved by sending that information over wifi, but lets call those time offsets $t_1$ and $t_2$) we still have $x_1$ and $x_2$, so we would still have two unknowns. However, if we introduce a second frequency, we can resolve this!"
   ]
  },
  {
   "cell_type": "markdown",
   "metadata": {},
   "source": [
    "So with a single frequency we get\n",
    "$$e^{j\\phi_1}+e^{j\\phi_2}$$\n",
    "$$\\phi_1 = k(x-x_1) + \\omega t_1$$\n",
    "$$\\phi_2 = k(x-x_2) + \\omega t_2$$\n",
    "$$Ae^{j\\phi_3} = (\\cos(\\phi_1) + \\cos(\\phi_2))+(\\sin(\\phi_1)+\\sin(\\phi_2))j$$\n",
    "$$\\phi_3 = \\tan^{-1}\\frac{\\sin(\\phi_1)+\\sin(\\phi_2)}{\\cos(\\phi_1)+\\cos(\\phi_2)}$$\n",
    "$$A = \\sqrt{(\\cos^2\\phi_1+\\sin^2\\phi_1)+(\\cos^2\\phi_2+\\sin^2\\phi_1) + (2\\cos\\phi_1\\cos\\phi_2+2\\sin\\phi_1\\sin\\phi_2)}\\\\=\\sqrt{2-2\\cos(\\phi_1-\\phi_2)} (wrong!)$$\n"
   ]
  },
  {
   "cell_type": "markdown",
   "metadata": {},
   "source": [
    "\n",
    "That last equation looks wrong. It's 0 if $\\phi_1=\\phi_2$ and I don't see why that should be the case. If $\\phi_1$ and $\\phi_2$ are equal, it should be complete constructive interference. I'd be fine if it were $\\sin$, but it's $\\cos$ so I'm a bit confused.\n",
    "\n",
    "Actually, if I flip the sign, it works, because then it's $4$ when they're equal, which is what we actually want; however, I can't figure out why it's not negative now. (we make it negative by making the two functions $180^\\circ$ out of phase, which is definitely what we want.\n",
    "\n",
    "It's wrong becuase there no reason for it to be negative. Flipping the sign inside cosine doesn't affect the sign OUTSIDE! D'uh!"
   ]
  },
  {
   "cell_type": "markdown",
   "metadata": {},
   "source": [
    "$$A = \\sqrt{2+2\\cos(\\phi_1-\\phi_2)}$$\n",
    "\n",
    "And there was much rejoicing!\n",
    "\n",
    "Now plugging back in values for the $\\phi$'s:\n",
    "\n",
    "$$A = \\sqrt{2}\\sqrt{1+\\cos(k(x_2-x_1) + \\omega (t_1-t_2))}$$\n",
    "$$A = \\sqrt{2}\\sqrt{1+\\cos(k\\Delta x - \\omega\\Delta t)}$$"
   ]
  },
  {
   "cell_type": "markdown",
   "metadata": {},
   "source": [
    "Unfortunately, we can only use that equation so much; because if the amplitudes of the two waves are different, $A$ is no where nearly so nice, we have to go back to the full equation and instead get:\n",
    "\n",
    "$$C = \\sqrt{A^2+B^2 + 2AB\\cos\\phi_1\\cos\\phi_2 + 2AB\\sin\\phi_1\\phi_2}$$"
   ]
  },
  {
   "cell_type": "markdown",
   "metadata": {},
   "source": [
    "Oh, that actually isn't bad at all! It simplifies to\n",
    "\n",
    "$$C = \\sqrt{A^2+B^2 + 2AB\\cos(\\phi_1-\\phi_2)}$$\n",
    "$$C = \\sqrt{A^2+B^2 + 2AB\\cos(k\\Delta x - \\omega\\Delta t)}$$"
   ]
  },
  {
   "cell_type": "markdown",
   "metadata": {},
   "source": [
    "And $\\phi_3$ likewise simply becomes:\n",
    "    \n",
    "$$\\phi_3 = \\tan^{-1}\\frac{A \\sin(\\phi_1)+B\\sin(\\phi_2)}{A\\cos(\\phi_1)+B\\cos(\\phi_2)}$$"
   ]
  },
  {
   "cell_type": "markdown",
   "metadata": {},
   "source": [
    "Okay, again, assuming that $\\Delta t$ can be assume to be known, we can either attempt to solve the measured $\\phi_3$ phase shift equation and the Amplitude equation. I'd rather just solve multiple phase shift equations, because I suspect that they'll be less noisy than the amplitude signal. However, we can clearly see that we need the original amplitudes of $A$ and $B$ anyhow, and the relative shift will be ultitimately be affected by volume drop off (which I've been completely ignoring). Oh noes!"
   ]
  },
  {
   "cell_type": "markdown",
   "metadata": {
    "collapsed": true
   },
   "source": [
    "## Another concern\n",
    "The values of both $\\phi_1$ and $\\phi_2$ are both unbounded; which means that the argument passed to $\\tan^{-1}$ is periodic, which means that $\\phi_3$ is also periodic, even when A and B are known. Which means that space is being broken up into non-distingushable regions. This issue might go away (or change) after we take back into account drop off. It's still interesting though, so I should investigate it in the pure form."
   ]
  },
  {
   "cell_type": "markdown",
   "metadata": {
    "collapsed": true
   },
   "source": [
    " ## Testing!\n",
    " \n",
    " Alright, let's go test these equations!"
   ]
  },
  {
   "cell_type": "code",
   "execution_count": 2,
   "metadata": {
    "collapsed": true
   },
   "outputs": [],
   "source": [
    "import numpy"
   ]
  },
  {
   "cell_type": "code",
   "execution_count": 3,
   "metadata": {
    "collapsed": true
   },
   "outputs": [],
   "source": [
    "def add_sinusoids(sin1, sin2):\n",
    "    s = numpy.sin\n",
    "    c = numpy.cos\n",
    "    A, phi1 = sin1\n",
    "    B, phi2 = sin2\n",
    "    C = numpy.sqrt(A**2+B**2+2*A*B*numpy.cos(phi1-phi2))\n",
    "    phi3 = numpy.arctan2(A*s(phi1)+B*s(phi2), A*c(phi1)+B*c(phi2))\n",
    "    return (C, phi3)"
   ]
  },
  {
   "cell_type": "code",
   "execution_count": 4,
   "metadata": {
    "collapsed": true
   },
   "outputs": [],
   "source": [
    "def numeric_sinusoid(sinusoid):\n",
    "    A, phi = sinusoid\n",
    "    return numpy.vectorize(lambda x: A*numpy.sin(x+phi))"
   ]
  },
  {
   "cell_type": "code",
   "execution_count": 13,
   "metadata": {},
   "outputs": [
    {
     "data": {
      "text/plain": [
       "(1.4142135623730951, 0.78539816339744828)"
      ]
     },
     "execution_count": 13,
     "metadata": {},
     "output_type": "execute_result"
    }
   ],
   "source": [
    "add_sinusoids((1, 0), (1, numpy.pi/2))"
   ]
  },
  {
   "cell_type": "code",
   "execution_count": 3,
   "metadata": {},
   "outputs": [
    {
     "ename": "ImportError",
     "evalue": "No module named matplotlib",
     "output_type": "error",
     "traceback": [
      "\u001b[0;31m---------------------------------------------------------------------------\u001b[0m",
      "\u001b[0;31mImportError\u001b[0m                               Traceback (most recent call last)",
      "\u001b[0;32m<ipython-input-3-cd62233651a7>\u001b[0m in \u001b[0;36m<module>\u001b[0;34m()\u001b[0m\n\u001b[0;32m----> 1\u001b[0;31m \u001b[0mget_ipython\u001b[0m\u001b[0;34m(\u001b[0m\u001b[0;34m)\u001b[0m\u001b[0;34m.\u001b[0m\u001b[0mmagic\u001b[0m\u001b[0;34m(\u001b[0m\u001b[0;34mu'matplotlib inline'\u001b[0m\u001b[0;34m)\u001b[0m\u001b[0;34m\u001b[0m\u001b[0m\n\u001b[0m\u001b[1;32m      2\u001b[0m \u001b[0;32mimport\u001b[0m \u001b[0mmatplotlib\u001b[0m\u001b[0;34m\u001b[0m\u001b[0m\n\u001b[1;32m      3\u001b[0m \u001b[0;32mimport\u001b[0m \u001b[0mnumpy\u001b[0m \u001b[0;32mas\u001b[0m \u001b[0mnp\u001b[0m\u001b[0;34m\u001b[0m\u001b[0m\n\u001b[1;32m      4\u001b[0m \u001b[0;32mimport\u001b[0m \u001b[0mmatplotlib\u001b[0m\u001b[0;34m.\u001b[0m\u001b[0mpyplot\u001b[0m \u001b[0;32mas\u001b[0m \u001b[0mplt\u001b[0m\u001b[0;34m\u001b[0m\u001b[0m\n",
      "\u001b[0;32m/usr/local/lib/python2.7/site-packages/IPython/core/interactiveshell.pyc\u001b[0m in \u001b[0;36mmagic\u001b[0;34m(self, arg_s)\u001b[0m\n\u001b[1;32m   2158\u001b[0m         \u001b[0mmagic_name\u001b[0m\u001b[0;34m,\u001b[0m \u001b[0m_\u001b[0m\u001b[0;34m,\u001b[0m \u001b[0mmagic_arg_s\u001b[0m \u001b[0;34m=\u001b[0m \u001b[0marg_s\u001b[0m\u001b[0;34m.\u001b[0m\u001b[0mpartition\u001b[0m\u001b[0;34m(\u001b[0m\u001b[0;34m' '\u001b[0m\u001b[0;34m)\u001b[0m\u001b[0;34m\u001b[0m\u001b[0m\n\u001b[1;32m   2159\u001b[0m         \u001b[0mmagic_name\u001b[0m \u001b[0;34m=\u001b[0m \u001b[0mmagic_name\u001b[0m\u001b[0;34m.\u001b[0m\u001b[0mlstrip\u001b[0m\u001b[0;34m(\u001b[0m\u001b[0mprefilter\u001b[0m\u001b[0;34m.\u001b[0m\u001b[0mESC_MAGIC\u001b[0m\u001b[0;34m)\u001b[0m\u001b[0;34m\u001b[0m\u001b[0m\n\u001b[0;32m-> 2160\u001b[0;31m         \u001b[0;32mreturn\u001b[0m \u001b[0mself\u001b[0m\u001b[0;34m.\u001b[0m\u001b[0mrun_line_magic\u001b[0m\u001b[0;34m(\u001b[0m\u001b[0mmagic_name\u001b[0m\u001b[0;34m,\u001b[0m \u001b[0mmagic_arg_s\u001b[0m\u001b[0;34m)\u001b[0m\u001b[0;34m\u001b[0m\u001b[0m\n\u001b[0m\u001b[1;32m   2161\u001b[0m \u001b[0;34m\u001b[0m\u001b[0m\n\u001b[1;32m   2162\u001b[0m     \u001b[0;31m#-------------------------------------------------------------------------\u001b[0m\u001b[0;34m\u001b[0m\u001b[0;34m\u001b[0m\u001b[0m\n",
      "\u001b[0;32m/usr/local/lib/python2.7/site-packages/IPython/core/interactiveshell.pyc\u001b[0m in \u001b[0;36mrun_line_magic\u001b[0;34m(self, magic_name, line)\u001b[0m\n\u001b[1;32m   2079\u001b[0m                 \u001b[0mkwargs\u001b[0m\u001b[0;34m[\u001b[0m\u001b[0;34m'local_ns'\u001b[0m\u001b[0;34m]\u001b[0m \u001b[0;34m=\u001b[0m \u001b[0msys\u001b[0m\u001b[0;34m.\u001b[0m\u001b[0m_getframe\u001b[0m\u001b[0;34m(\u001b[0m\u001b[0mstack_depth\u001b[0m\u001b[0;34m)\u001b[0m\u001b[0;34m.\u001b[0m\u001b[0mf_locals\u001b[0m\u001b[0;34m\u001b[0m\u001b[0m\n\u001b[1;32m   2080\u001b[0m             \u001b[0;32mwith\u001b[0m \u001b[0mself\u001b[0m\u001b[0;34m.\u001b[0m\u001b[0mbuiltin_trap\u001b[0m\u001b[0;34m:\u001b[0m\u001b[0;34m\u001b[0m\u001b[0m\n\u001b[0;32m-> 2081\u001b[0;31m                 \u001b[0mresult\u001b[0m \u001b[0;34m=\u001b[0m \u001b[0mfn\u001b[0m\u001b[0;34m(\u001b[0m\u001b[0;34m*\u001b[0m\u001b[0margs\u001b[0m\u001b[0;34m,\u001b[0m\u001b[0;34m**\u001b[0m\u001b[0mkwargs\u001b[0m\u001b[0;34m)\u001b[0m\u001b[0;34m\u001b[0m\u001b[0m\n\u001b[0m\u001b[1;32m   2082\u001b[0m             \u001b[0;32mreturn\u001b[0m \u001b[0mresult\u001b[0m\u001b[0;34m\u001b[0m\u001b[0m\n\u001b[1;32m   2083\u001b[0m \u001b[0;34m\u001b[0m\u001b[0m\n",
      "\u001b[0;32m<decorator-gen-105>\u001b[0m in \u001b[0;36mmatplotlib\u001b[0;34m(self, line)\u001b[0m\n",
      "\u001b[0;32m/usr/local/lib/python2.7/site-packages/IPython/core/magic.pyc\u001b[0m in \u001b[0;36m<lambda>\u001b[0;34m(f, *a, **k)\u001b[0m\n\u001b[1;32m    186\u001b[0m     \u001b[0;31m# but it's overkill for just that one bit of state.\u001b[0m\u001b[0;34m\u001b[0m\u001b[0;34m\u001b[0m\u001b[0m\n\u001b[1;32m    187\u001b[0m     \u001b[0;32mdef\u001b[0m \u001b[0mmagic_deco\u001b[0m\u001b[0;34m(\u001b[0m\u001b[0marg\u001b[0m\u001b[0;34m)\u001b[0m\u001b[0;34m:\u001b[0m\u001b[0;34m\u001b[0m\u001b[0m\n\u001b[0;32m--> 188\u001b[0;31m         \u001b[0mcall\u001b[0m \u001b[0;34m=\u001b[0m \u001b[0;32mlambda\u001b[0m \u001b[0mf\u001b[0m\u001b[0;34m,\u001b[0m \u001b[0;34m*\u001b[0m\u001b[0ma\u001b[0m\u001b[0;34m,\u001b[0m \u001b[0;34m**\u001b[0m\u001b[0mk\u001b[0m\u001b[0;34m:\u001b[0m \u001b[0mf\u001b[0m\u001b[0;34m(\u001b[0m\u001b[0;34m*\u001b[0m\u001b[0ma\u001b[0m\u001b[0;34m,\u001b[0m \u001b[0;34m**\u001b[0m\u001b[0mk\u001b[0m\u001b[0;34m)\u001b[0m\u001b[0;34m\u001b[0m\u001b[0m\n\u001b[0m\u001b[1;32m    189\u001b[0m \u001b[0;34m\u001b[0m\u001b[0m\n\u001b[1;32m    190\u001b[0m         \u001b[0;32mif\u001b[0m \u001b[0mcallable\u001b[0m\u001b[0;34m(\u001b[0m\u001b[0marg\u001b[0m\u001b[0;34m)\u001b[0m\u001b[0;34m:\u001b[0m\u001b[0;34m\u001b[0m\u001b[0m\n",
      "\u001b[0;32m/usr/local/lib/python2.7/site-packages/IPython/core/magics/pylab.pyc\u001b[0m in \u001b[0;36mmatplotlib\u001b[0;34m(self, line)\u001b[0m\n\u001b[1;32m     98\u001b[0m             \u001b[0;32mprint\u001b[0m\u001b[0;34m(\u001b[0m\u001b[0;34m\"Available matplotlib backends: %s\"\u001b[0m \u001b[0;34m%\u001b[0m \u001b[0mbackends_list\u001b[0m\u001b[0;34m)\u001b[0m\u001b[0;34m\u001b[0m\u001b[0m\n\u001b[1;32m     99\u001b[0m         \u001b[0;32melse\u001b[0m\u001b[0;34m:\u001b[0m\u001b[0;34m\u001b[0m\u001b[0m\n\u001b[0;32m--> 100\u001b[0;31m             \u001b[0mgui\u001b[0m\u001b[0;34m,\u001b[0m \u001b[0mbackend\u001b[0m \u001b[0;34m=\u001b[0m \u001b[0mself\u001b[0m\u001b[0;34m.\u001b[0m\u001b[0mshell\u001b[0m\u001b[0;34m.\u001b[0m\u001b[0menable_matplotlib\u001b[0m\u001b[0;34m(\u001b[0m\u001b[0margs\u001b[0m\u001b[0;34m.\u001b[0m\u001b[0mgui\u001b[0m\u001b[0;34m)\u001b[0m\u001b[0;34m\u001b[0m\u001b[0m\n\u001b[0m\u001b[1;32m    101\u001b[0m             \u001b[0mself\u001b[0m\u001b[0;34m.\u001b[0m\u001b[0m_show_matplotlib_backend\u001b[0m\u001b[0;34m(\u001b[0m\u001b[0margs\u001b[0m\u001b[0;34m.\u001b[0m\u001b[0mgui\u001b[0m\u001b[0;34m,\u001b[0m \u001b[0mbackend\u001b[0m\u001b[0;34m)\u001b[0m\u001b[0;34m\u001b[0m\u001b[0m\n\u001b[1;32m    102\u001b[0m \u001b[0;34m\u001b[0m\u001b[0m\n",
      "\u001b[0;32m/usr/local/lib/python2.7/site-packages/IPython/core/interactiveshell.pyc\u001b[0m in \u001b[0;36menable_matplotlib\u001b[0;34m(self, gui)\u001b[0m\n\u001b[1;32m   2936\u001b[0m         \"\"\"\n\u001b[1;32m   2937\u001b[0m         \u001b[0;32mfrom\u001b[0m \u001b[0mIPython\u001b[0m\u001b[0;34m.\u001b[0m\u001b[0mcore\u001b[0m \u001b[0;32mimport\u001b[0m \u001b[0mpylabtools\u001b[0m \u001b[0;32mas\u001b[0m \u001b[0mpt\u001b[0m\u001b[0;34m\u001b[0m\u001b[0m\n\u001b[0;32m-> 2938\u001b[0;31m         \u001b[0mgui\u001b[0m\u001b[0;34m,\u001b[0m \u001b[0mbackend\u001b[0m \u001b[0;34m=\u001b[0m \u001b[0mpt\u001b[0m\u001b[0;34m.\u001b[0m\u001b[0mfind_gui_and_backend\u001b[0m\u001b[0;34m(\u001b[0m\u001b[0mgui\u001b[0m\u001b[0;34m,\u001b[0m \u001b[0mself\u001b[0m\u001b[0;34m.\u001b[0m\u001b[0mpylab_gui_select\u001b[0m\u001b[0;34m)\u001b[0m\u001b[0;34m\u001b[0m\u001b[0m\n\u001b[0m\u001b[1;32m   2939\u001b[0m \u001b[0;34m\u001b[0m\u001b[0m\n\u001b[1;32m   2940\u001b[0m         \u001b[0;32mif\u001b[0m \u001b[0mgui\u001b[0m \u001b[0;34m!=\u001b[0m \u001b[0;34m'inline'\u001b[0m\u001b[0;34m:\u001b[0m\u001b[0;34m\u001b[0m\u001b[0m\n",
      "\u001b[0;32m/usr/local/lib/python2.7/site-packages/IPython/core/pylabtools.pyc\u001b[0m in \u001b[0;36mfind_gui_and_backend\u001b[0;34m(gui, gui_select)\u001b[0m\n\u001b[1;32m    270\u001b[0m     \"\"\"\n\u001b[1;32m    271\u001b[0m \u001b[0;34m\u001b[0m\u001b[0m\n\u001b[0;32m--> 272\u001b[0;31m     \u001b[0;32mimport\u001b[0m \u001b[0mmatplotlib\u001b[0m\u001b[0;34m\u001b[0m\u001b[0m\n\u001b[0m\u001b[1;32m    273\u001b[0m \u001b[0;34m\u001b[0m\u001b[0m\n\u001b[1;32m    274\u001b[0m     \u001b[0;32mif\u001b[0m \u001b[0mgui\u001b[0m \u001b[0;32mand\u001b[0m \u001b[0mgui\u001b[0m \u001b[0;34m!=\u001b[0m \u001b[0;34m'auto'\u001b[0m\u001b[0;34m:\u001b[0m\u001b[0;34m\u001b[0m\u001b[0m\n",
      "\u001b[0;31mImportError\u001b[0m: No module named matplotlib"
     ]
    }
   ],
   "source": [
    "%matplotlib inline\n",
    "import matplotlib\n",
    "import numpy as np\n",
    "import matplotlib.pyplot as plt"
   ]
  },
  {
   "cell_type": "code",
   "execution_count": 56,
   "metadata": {},
   "outputs": [
    {
     "data": {
      "text/plain": [
       "[<matplotlib.lines.Line2D at 0x7feaa935e490>]"
      ]
     },
     "execution_count": 56,
     "metadata": {},
     "output_type": "execute_result"
    },
    {
     "data": {
      "image/png": "[encoded data removed]",
      "text/plain": [
       "<matplotlib.figure.Figure at 0x7feaa9b38ed0>"
      ]
     },
     "metadata": {},
     "output_type": "display_data"
    }
   ],
   "source": [
    "x = np.arange(0,10,.01)\n",
    "y1 = 2*numpy.sin(x+np.pi/6)\n",
    "y2 = 3*numpy.sin(x+np.pi/2)\n",
    "C, phi3 = add_sinusoids((2,np.pi/6), (3,numpy.pi/2))\n",
    "plt.plot(x, y1+y2, 'r')\n",
    "plt.plot(x, C*numpy.sin(x+phi3), 'b')\n",
    "plt.plot(x, y1+y2-C*numpy.sin(x+phi3), 'g')"
   ]
  },
  {
   "cell_type": "code",
   "execution_count": 33,
   "metadata": {},
   "outputs": [
    {
     "data": {
      "text/plain": [
       "9.9900000000000002"
      ]
     },
     "execution_count": 33,
     "metadata": {},
     "output_type": "execute_result"
    }
   ],
   "source": [
    "x[999]"
   ]
  },
  {
   "cell_type": "code",
   "execution_count": 45,
   "metadata": {},
   "outputs": [
    {
     "data": {
      "text/plain": [
       "(4.0, 1.1621584716973041)"
      ]
     },
     "execution_count": 45,
     "metadata": {},
     "output_type": "execute_result"
    }
   ],
   "source": [
    "add_sinusoids((2,np.pi/6), (3,numpy.pi/2))"
   ]
  },
  {
   "cell_type": "markdown",
   "metadata": {
    "collapsed": true
   },
   "source": [
    "## Extracting Amplitude (wrong)\n",
    "Probably the easiest way, that will also allow me to deal with errors, is to simply evaluate\n",
    "\n",
    "$$ \\int^{T}_0 \\sin(\\omega t+\\phi) A \\sin(\\omega t + \\phi) = \\frac{A \\pi}{2} $$\n",
    "$$ A = \\frac{2}{\\pi}\\int^{T}_0 \\sin(\\omega t+\\phi) A \\sin(\\omega t + \\phi) $$"
   ]
  },
  {
   "cell_type": "markdown",
   "metadata": {},
   "source": [
    "which can easily be evaluated with\n",
    "\n",
    "```\n",
    "np.dot(data, data)\n",
    "```"
   ]
  },
  {
   "cell_type": "markdown",
   "metadata": {},
   "source": [
    "## Extracting Phase (wrong)\n",
    "Likewise once Amplitude has been deterimined, we can run...\n",
    "\n",
    "After reconsidering the situation, the above is stupid. This is what should be done instead.\n",
    "\n",
    "## Extracting Amplitude\n",
    "$$ \\int^{T}_0 \\sin(\\omega t) A \\sin(\\omega t + \\phi) = \\frac{A \\pi\\cos(\\phi)}{\\omega} $$"
   ]
  },
  {
   "cell_type": "markdown",
   "metadata": {},
   "source": [
    "$$ \\int^{T}_0 \\cos(\\omega t) A \\sin(\\omega t + \\phi) = \\frac{A \\pi\\sin(\\phi)}{\\omega} $$"
   ]
  },
  {
   "cell_type": "markdown",
   "metadata": {},
   "source": [
    "So\n",
    "\n",
    "$$ A = 2\\sqrt{\\left(\\int^{T}_0 \\sin(\\omega t) A \\sin(\\omega t + \\phi)\\right)^2+\\left(\\int^{T}_0\n",
    "\\cos(\\omega t) A \\sin(\\omega t + \\phi)\\right)^2}$$\n",
    "\n",
    "And from that, $\\phi$ can quickly be resolved."
   ]
  },
  {
   "cell_type": "code",
   "execution_count": 6,
   "metadata": {
    "collapsed": true
   },
   "outputs": [],
   "source": [
    "def extract_amplitude(t, frequency, data):\n",
    "    s = np.dot(np.sin(frequency*t), data)\n",
    "    c = np.odt(np.cos(frequency*t), data)\n",
    "    A = 2* np.sqrt(s**2 + c**2)\n",
    "    return A \n"
   ]
  },
  {
   "cell_type": "markdown",
   "metadata": {},
   "source": [
    "So the above function assumes that there is only one period in the data, let's fix that.\n",
    "\n",
    "$$ \\int^{nT}_0 \\cos(\\omega t) A \\sin(\\omega t + \\phi) \\approx n\\frac{A\\pi \\sin(\\phi)}{\\omega} $$\n",
    "\n",
    "Approximate because I'm ignoring the left over."
   ]
  },
  {
   "cell_type": "code",
   "execution_count": 7,
   "metadata": {},
   "outputs": [],
   "source": [
    "def extract_amplitude(t, frequency, data):\n",
    "    total_t = t[-1] - t[0]\n",
    "    dt = t[1]-t[0]\n",
    "    n = total_t * frequency\n",
    "    s = np.dot(np.sin(np.pi*2*frequency*t)*dt, data)\n",
    "    c = np.dot(np.cos(np.pi*2*frequency*t)*dt, data)\n",
    "    A = (2*np.pi*frequency* np.sqrt(s**2 + c**2))/(n*np.pi)\n",
    "    return A "
   ]
  },
  {
   "cell_type": "code",
   "execution_count": 10,
   "metadata": {},
   "outputs": [
    {
     "data": {
      "text/plain": [
       "4.2006047196632563"
      ]
     },
     "execution_count": 10,
     "metadata": {},
     "output_type": "execute_result"
    }
   ],
   "source": [
    "# Testing!\n",
    "t = np.arange(0,20*np.pi*2,.01)\n",
    "extract_amplitude(t, 5, 4.2*np.sin(5*2*np.pi*t))"
   ]
  },
  {
   "cell_type": "markdown",
   "metadata": {},
   "source": [
    "Okay, I cheated a bit deriving the original integral above (change a variables quickly fixes the issue), and will need to fix it. But anyhow, this works!\n",
    "\n",
    "So let's complete this and get the phase as well."
   ]
  },
  {
   "cell_type": "code",
   "execution_count": 3,
   "metadata": {
    "collapsed": true
   },
   "outputs": [],
   "source": [
    "def extract_sinusoid(t, frequency, data):\n",
    "    total_t = t[-1] - t[0]\n",
    "    dt = t[1]-t[0]\n",
    "    n = total_t * frequency\n",
    "    s = np.dot(np.sin(np.pi*2*frequency*t)*dt, data)\n",
    "    c = np.dot(np.cos(np.pi*2*frequency*t)*dt, data)\n",
    "    A = (2*np.pi*frequency* np.sqrt(s**2 + c**2))/(n*np.pi)\n",
    "    cphi = s*(2*np.pi*frequency)/(n*A*np.pi)\n",
    "    sphi = c*(2*np.pi*frequency)/(n*A*np.pi)\n",
    "    return A, np.arctan2(sphi, cphi)"
   ]
  },
  {
   "cell_type": "code",
   "execution_count": 130,
   "metadata": {},
   "outputs": [
    {
     "data": {
      "text/plain": [
       "(4.2007646512331744, 0.10018137229835336)"
      ]
     },
     "execution_count": 130,
     "metadata": {},
     "output_type": "execute_result"
    }
   ],
   "source": [
    "A, f, phi = 4.2, 5, .10\n",
    "omega = 2*np.pi*f\n",
    "extract_sinusoid(t, f, A*np.sin(omega*t+.10))"
   ]
  },
  {
   "cell_type": "markdown",
   "metadata": {},
   "source": [
    "Sweet!\n",
    "\n",
    "So yeah, `cphi` and `sphi` are just the cosine of $\\phi$ and sine of $\\phi$ as one would expect, and  they can thus be directly passed into the arctan2 function. Neat!"
   ]
  },
  {
   "cell_type": "markdown",
   "metadata": {},
   "source": [
    "# Can we see through noise?"
   ]
  },
  {
   "cell_type": "markdown",
   "metadata": {},
   "source": [
    "And let's make sure that it 'picks out' the real signal."
   ]
  },
  {
   "cell_type": "code",
   "execution_count": 168,
   "metadata": {},
   "outputs": [
    {
     "data": {
      "text/plain": [
       "(4.200420042003798, 0.099999999999968336)"
      ]
     },
     "execution_count": 168,
     "metadata": {},
     "output_type": "execute_result"
    }
   ],
   "source": [
    "A, f, phi = 4.2, 5, .10\n",
    "omega = 2*np.pi*f\n",
    "noise = np.random.normal(.1,len(t))\n",
    "extract_sinusoid(t, f, A*np.sin(omega*t+.10)+noise)"
   ]
  },
  {
   "cell_type": "markdown",
   "metadata": {},
   "source": [
    "Oh dear, that white noise messed up everything. Let's go see if it is made better if I just add in an unrelated frequency."
   ]
  },
  {
   "cell_type": "code",
   "execution_count": 169,
   "metadata": {},
   "outputs": [
    {
     "data": {
      "text/plain": [
       "(4.1862752264219214, 0.099091641694281626)"
      ]
     },
     "execution_count": 169,
     "metadata": {},
     "output_type": "execute_result"
    }
   ],
   "source": [
    "A, f, phi = 4.2, 5, .10\n",
    "omega = 2*np.pi*f\n",
    "noise = A*np.sin(5.8*t+.10)\n",
    "noise2 = A*np.sin(7.5*t+.20)\n",
    "extract_sinusoid(t, f, A*np.sin(omega*t+.10)+noise+noise2)"
   ]
  },
  {
   "cell_type": "markdown",
   "metadata": {},
   "source": [
    "Well that's more sane! Okay, let's just measure the amount of frequency in the white noise."
   ]
  },
  {
   "cell_type": "code",
   "execution_count": 170,
   "metadata": {},
   "outputs": [
    {
     "data": {
      "text/plain": [
       "(array([ 0.10986198,  0.10986198,  0.10986198, ...,  0.10986198,\n",
       "         0.10986198,  0.10986198]),\n",
       " array([ 1.57079633,  1.5393804 ,  1.50796447, ...,  1.66504411,\n",
       "         1.63362818,  1.60221225]))"
      ]
     },
     "execution_count": 170,
     "metadata": {},
     "output_type": "execute_result"
    }
   ],
   "source": [
    "A, f, phi = 4.2, 5, .10\n",
    "omega = 2*np.pi*f\n",
    "noise = np.random.normal(.1, len(t))\n",
    "extract_sinusoid(t, f, noise)"
   ]
  },
  {
   "cell_type": "markdown",
   "metadata": {},
   "source": [
    "Wait... what?"
   ]
  },
  {
   "cell_type": "code",
   "execution_count": 171,
   "metadata": {},
   "outputs": [
    {
     "data": {
      "text/plain": [
       "549.2549896712366"
      ]
     },
     "execution_count": 171,
     "metadata": {},
     "output_type": "execute_result"
    }
   ],
   "source": [
    "noise"
   ]
  },
  {
   "cell_type": "markdown",
   "metadata": {},
   "source": [
    "ohh...... Well that was silly."
   ]
  },
  {
   "cell_type": "markdown",
   "metadata": {},
   "source": [
    "```\n",
    "Docstring:\n",
    "normal(loc=0.0, scale=1.0, size=None)\n",
    "```\n",
    "Oops! I was adding a scalar (with a TON of variance), not an array!"
   ]
  },
  {
   "cell_type": "code",
   "execution_count": 172,
   "metadata": {},
   "outputs": [
    {
     "data": {
      "text/plain": [
       "(0.017452075935780804, 0.32752741556989778)"
      ]
     },
     "execution_count": 172,
     "metadata": {},
     "output_type": "execute_result"
    }
   ],
   "source": [
    "A, f, phi = 4.2, 5, .10\n",
    "omega = 2*np.pi*f\n",
    "noise = np.random.normal(.1, size=len(t))\n",
    "extract_sinusoid(t, f, noise)"
   ]
  },
  {
   "cell_type": "markdown",
   "metadata": {},
   "source": [
    "A little surpised there's that much noise at that frequency."
   ]
  },
  {
   "cell_type": "code",
   "execution_count": 173,
   "metadata": {},
   "outputs": [
    {
     "data": {
      "text/plain": [
       "(0.0063819961943724132, -2.6601510164507896)"
      ]
     },
     "execution_count": 173,
     "metadata": {},
     "output_type": "execute_result"
    }
   ],
   "source": [
    "# Increasing frequency to 50\n",
    "A, f, phi = 4.2, 50, .10\n",
    "omega = 2*np.pi*f\n",
    "noise = np.random.normal(.1, size=len(t))\n",
    "extract_sinusoid(t, f, noise)"
   ]
  },
  {
   "cell_type": "markdown",
   "metadata": {},
   "source": [
    "Isn't the fourier transform of a gaussian also a guassian? Shouldn't this be dropping off exponentially with frequency?"
   ]
  },
  {
   "cell_type": "code",
   "execution_count": 174,
   "metadata": {},
   "outputs": [
    {
     "data": {
      "text/plain": [
       "(0.0088017841102658225, 1.5707963268027849)"
      ]
     },
     "execution_count": 174,
     "metadata": {},
     "output_type": "execute_result"
    }
   ],
   "source": [
    "# Increasing to 500\n",
    "A, f, phi = 4.2, 500, .10\n",
    "omega = 2*np.pi*f\n",
    "noise = np.random.normal(1, size=len(t))\n",
    "extract_sinusoid(t, f, noise)"
   ]
  },
  {
   "cell_type": "markdown",
   "metadata": {},
   "source": [
    "what?"
   ]
  },
  {
   "cell_type": "markdown",
   "metadata": {},
   "source": [
    "Oh right; I'm cutting off dt. (not t! The issue is that our maximum sampling isn't small enough!)"
   ]
  },
  {
   "cell_type": "code",
   "execution_count": 175,
   "metadata": {},
   "outputs": [
    {
     "data": {
      "text/plain": [
       "array([  0.00000000e+00,   1.00000000e-03,   2.00000000e-03, ...,\n",
       "         9.99700000e+00,   9.99800000e+00,   9.99900000e+00])"
      ]
     },
     "execution_count": 175,
     "metadata": {},
     "output_type": "execute_result"
    }
   ],
   "source": [
    "t"
   ]
  },
  {
   "cell_type": "code",
   "execution_count": 176,
   "metadata": {},
   "outputs": [
    {
     "data": {
      "text/plain": [
       "(0.01301577577845418, 1.5707963267965985)"
      ]
     },
     "execution_count": 176,
     "metadata": {},
     "output_type": "execute_result"
    }
   ],
   "source": [
    "# Increasing dt\n",
    "t = np.arange(0,10,.001)\n",
    "A, f, phi = 4.2, 500, .10\n",
    "omega = 2*np.pi*f\n",
    "noise = np.random.normal(1, size=len(t))\n",
    "extract_sinusoid(t, f, noise)"
   ]
  },
  {
   "cell_type": "markdown",
   "metadata": {},
   "source": [
    "Okay, anyhow, back to the fun stuff"
   ]
  },
  {
   "cell_type": "code",
   "execution_count": 82,
   "metadata": {},
   "outputs": [
    {
     "data": {
      "text/plain": [
       "(array([   1.,    0.,    1.,    3.,    8.,   16.,   36.,   60.,  111.,\n",
       "         119.,  148.,  158.,  141.,   81.,   67.,   29.,   10.,    5.,\n",
       "           3.,    3.]),\n",
       " array([-0.45729132, -0.40609882, -0.35490632, -0.30371382, -0.25252132,\n",
       "        -0.20132882, -0.15013632, -0.09894382, -0.04775132,  0.00344118,\n",
       "         0.05463369,  0.10582619,  0.15701869,  0.20821119,  0.25940369,\n",
       "         0.31059619,  0.36178869,  0.41298119,  0.46417369,  0.51536619,\n",
       "         0.56655869]),\n",
       " <a list of 20 Patch objects>)"
      ]
     },
     "execution_count": 82,
     "metadata": {},
     "output_type": "execute_result"
    },
    {
     "data": {
      "image/png": "[encoded data removed]",
      "text/plain": [
       "<matplotlib.figure.Figure at 0x7ffaee8d49d0>"
      ]
     },
     "metadata": {},
     "output_type": "display_data"
    }
   ],
   "source": [
    "A, f, phi = 4.2, 44100, .10\n",
    "t = np.arange(0,10,.001)\n",
    "omega = 2*np.pi*f\n",
    "phases = []\n",
    "amps = []\n",
    "for run in range(1000): \n",
    "    noise = np.random.normal(.1,size=len(t))\n",
    "    amp, phase = extract_sinusoid(t, f, A*(np.sin(omega*t+.10))+40*noise)\n",
    "    phases.append(phase)\n",
    "    amps.append(amp)\n",
    "plt.hist(phases,bins=20)"
   ]
  },
  {
   "cell_type": "code",
   "execution_count": 84,
   "metadata": {},
   "outputs": [
    {
     "data": {
      "text/plain": [
       "(array([   7.,    7.,   10.,   23.,   36.,   58.,  110.,  104.,  102.,\n",
       "         129.,  102.,   96.,   89.,   51.,   37.,   17.,   12.,    7.,\n",
       "           2.,    1.]),\n",
       " array([ 2.55958006,  2.73565841,  2.91173676,  3.08781511,  3.26389346,\n",
       "         3.43997181,  3.61605016,  3.79212851,  3.96820686,  4.14428522,\n",
       "         4.32036357,  4.49644192,  4.67252027,  4.84859862,  5.02467697,\n",
       "         5.20075532,  5.37683367,  5.55291202,  5.72899037,  5.90506872,\n",
       "         6.08114707]),\n",
       " <a list of 20 Patch objects>)"
      ]
     },
     "execution_count": 84,
     "metadata": {},
     "output_type": "execute_result"
    },
    {
     "data": {
      "image/png": "[encoded data removed]",
      "text/plain": [
       "<matplotlib.figure.Figure at 0x7ffaee2d0c90>"
      ]
     },
     "metadata": {},
     "output_type": "display_data"
    }
   ],
   "source": [
    "plt.hist(amps,bins=20)"
   ]
  },
  {
   "cell_type": "markdown",
   "metadata": {},
   "source": [
    "And the crowd goes wild!\n"
   ]
  },
  {
   "cell_type": "markdown",
   "metadata": {},
   "source": [
    "# More fun with noise"
   ]
  },
  {
   "cell_type": "code",
   "execution_count": 194,
   "metadata": {},
   "outputs": [
    {
     "name": "stdout",
     "output_type": "stream",
     "text": [
      "[ 10.57530908   9.98783231   9.96771058 ...,  10.28494128   9.56447872\n",
      "  10.98084905]\n"
     ]
    },
    {
     "data": {
      "text/plain": [
       "(0.011215386330759266, 0.53576859915484709)"
      ]
     },
     "execution_count": 194,
     "metadata": {},
     "output_type": "execute_result"
    }
   ],
   "source": [
    "A, f, phi = 4.2, 5, .10\n",
    "omega = 2*np.pi*f\n",
    "noise = np.random.normal(10,size=len(t))\n",
    "print noise\n",
    "extract_sinusoid(t, f, noise)"
   ]
  },
  {
   "cell_type": "markdown",
   "metadata": {},
   "source": [
    "Umm... I would expect to have more noise. The value seems to be completely independent of... (looks up normal definition again...)\n",
    "```\n",
    "Docstring:\n",
    "normal(loc=0.0, scale=1.0, size=None)\n",
    "```\n",
    "\n",
    "Okay, this is still what I want, loc is the mean value, but that's fine. But the actual issue is that it's basically constant compared ot everything else when you really make it big. But more to the point, the mean *is* a constant offset, so unsurprisingly, changing the mean has no impact. So... yay!"
   ]
  },
  {
   "cell_type": "code",
   "execution_count": 209,
   "metadata": {},
   "outputs": [
    {
     "data": {
      "text/plain": [
       "(1.5998165130551509, -1.5908411075119)"
      ]
     },
     "execution_count": 209,
     "metadata": {},
     "output_type": "execute_result"
    }
   ],
   "source": [
    "A, f, phi = 4.2, 5, .10\n",
    "omega = 2*np.pi*f\n",
    "noise = np.random.normal(1,scale=100,size=len(t))\n",
    "extract_sinusoid(t, f, noise)"
   ]
  },
  {
   "cell_type": "markdown",
   "metadata": {},
   "source": [
    "So yes, changing the variance has much larger impact, which makes sense."
   ]
  },
  {
   "cell_type": "markdown",
   "metadata": {},
   "source": [
    "Still, I was thinking poorly, I was thinking \"What's the fourier transform of a gaussain\", but what I should have been asking was \"What's the fourier transformation of a randomly sampled signal from a guassian distribution.\" Which is a different question. Darn."
   ]
  },
  {
   "cell_type": "markdown",
   "metadata": {
    "collapsed": true
   },
   "source": [
    "## Phase difference and noise"
   ]
  },
  {
   "cell_type": "code",
   "execution_count": 14,
   "metadata": {},
   "outputs": [
    {
     "data": {
      "image/png": "[encoded data removed]",
      "text/plain": [
       "<matplotlib.figure.Figure at 0x107835a50>"
      ]
     },
     "metadata": {},
     "output_type": "display_data"
    }
   ],
   "source": [
    "A, f, phi = 4.2, 440, .10\n",
    "f1 = 440\n",
    "f2 = 660\n",
    "f3 = 2000\n",
    "t = np.arange(0,1,1./48000)\n",
    "omega1 = 2*np.pi*f1\n",
    "omega2 = 2*np.pi*(f2)\n",
    "omega3 = 2*np.pi*(f3)\n",
    "phases = [[],[],[]]\n",
    "amps = [[],[],[]]\n",
    "for run in range(1000): \n",
    "    noise = np.random.normal(.1,size=len(t))\n",
    "    signal = A*np.sin(omega1*t+phi)+A*np.sin(omega2*t+phi)+A*np.sin(omega3*t+phi)\n",
    "    rawsignal = signal+noise\n",
    "    amp1, phase1 = extract_sinusoid(t, f1, rawsignal)\n",
    "    amp2, phase2 = extract_sinusoid(t, f2, rawsignal)\n",
    "    amp3, phase3 = extract_sinusoid(t, f3, rawsignal)\n",
    "    [amps[i].append(amp) for i, amp in enumerate([amp1, amp2, amp3])]\n",
    "    [phases[i].append(phase) for i,phase in enumerate([phase1, phase2, phase3])]\n",
    "plt.clf()\n",
    "def plot_all(arrays):\n",
    "    for array in arrays:\n",
    "        #print len(array)\n",
    "        plt.hist(array,bins=20)\n",
    "plot_all(amps)"
   ]
  },
  {
   "cell_type": "markdown",
   "metadata": {
    "collapsed": true
   },
   "source": [
    "So, I'm going to hypothesize, that just as noise in it's frequency is idependent of each other frequency (proof?) the phase noise is independent of each other phase frequency. So I can get a better estimate of the frequency by treating each point evaluation as distribution and convolving each (*handwave*).\n",
    "\n",
    "Also, I'm hypotheszing that the variance in phase for each frequency is independent of frequency."
   ]
  },
  {
   "cell_type": "code",
   "execution_count": 34,
   "metadata": {},
   "outputs": [
    {
     "data": {
      "text/plain": [
       "(array([ 0.4,  0.3,  0.3]), array([1, 2, 3, 4]))"
      ]
     },
     "execution_count": 34,
     "metadata": {},
     "output_type": "execute_result"
    }
   ],
   "source": [
    "numpy.histogram([1,1,1,1,2,2,2,3,3,4],normed=True, bins=)"
   ]
  },
  {
   "cell_type": "markdown",
   "metadata": {},
   "source": [
    "So the main question is, when I pick a number from a (fixed) distribution, how do I convert that, in a good way, into an estimator for the parameters of the distribution?\n",
    "\n",
    "Alright; the partial answer is that I need a prior for the underlying niose distribution. Once I have that, what's my updated distribution? We apply bayes rule at each point (what's the probabiltiy, given this observed data point that the thing is this?) to obtain the new distribution.\n",
    "\n",
    "By using multiple frequencies, we can get, hopefully, a much sharper distributino around the phase.\n",
    "\n",
    "Note on spatial innacuracy, higher frequenices increase the t_0, which will mean that the same change in t_0 will correspond to larger phis at higher frequencies. This suggests that higher frequncies are more resilient to phase change errors for spatial resolution (assuming that phase change error is independent of frequency as noted above)."
   ]
  },
  {
   "cell_type": "markdown",
   "metadata": {},
   "source": [
    "# Experiment in noise independence of frequencies and phase\n",
    "Alright; we vaguely rememeber something about white noise uniformly producing noise in each channel frequency, what we seem to recall is that means is that if I measure the error in the amplitude for each frequency, each should be an independent draw from the same distribution. That is $P(A,B) = P(A)P(B)$."
   ]
  },
  {
   "cell_type": "code",
   "execution_count": 37,
   "metadata": {},
   "outputs": [
    {
     "data": {
      "image/png": "[encoded data removed]",
      "text/plain": [
       "<matplotlib.figure.Figure at 0x10491a290>"
      ]
     },
     "metadata": {},
     "output_type": "display_data"
    }
   ],
   "source": [
    "A, f, phi = 4.2, 440, .10\n",
    "f1 = 440\n",
    "f2 = 660\n",
    "f3 = 880\n",
    "t = np.arange(0,1,.001)\n",
    "omega1 = 2*np.pi*f1\n",
    "omega2 = 2*np.pi*(f2)\n",
    "omega3 = 2*np.pi*(f3)\n",
    "phases = [[],[],[]]\n",
    "amps = [[],[],[]]\n",
    "for run in range(10000): \n",
    "    noise = np.random.normal(.1,size=len(t))\n",
    "    signal = A*np.sin(omega1*t+phi)+A*np.sin(omega2*t+phi)+A*np.sin(omega3*t+phi)\n",
    "    rawsignal = signal+noise\n",
    "    amp1, phase1 = extract_sinusoid(t, f1, rawsignal)\n",
    "    amp2, phase2 = extract_sinusoid(t, f2, rawsignal)\n",
    "    amp3, phase3 = extract_sinusoid(t, f3, rawsignal)\n",
    "    [amps[i].append(amp) for i, amp in enumerate([amp1, amp2, amp3])]\n",
    "    [phases[i].append(phase) for i,phase in enumerate([phase1, phase2, phase3])]\n",
    "plt.clf()\n",
    "def plot_all(arrays,style='r+'):\n",
    "    for i in range(len(arrays[0])):\n",
    "        plt.plot(arrays[0][i],arrays[1][i],style)\n",
    "plot_all(amps,'r+')"
   ]
  },
  {
   "cell_type": "code",
   "execution_count": 38,
   "metadata": {},
   "outputs": [
    {
     "data": {
      "image/png": "[encoded data removed]",
      "text/plain": [
       "<matplotlib.figure.Figure at 0x10847fa10>"
      ]
     },
     "metadata": {},
     "output_type": "display_data"
    }
   ],
   "source": [
    "plot_all(phases,'g+')"
   ]
  },
  {
   "cell_type": "markdown",
   "metadata": {},
   "source": [
    "So with meager graphical evidence, I'm going to go with 'that looks like two independent gaussian distributions'. I can probably do much better (that is, have a generic way of transforming empirical distributions into demonstrations of independence, and known what to look for), but I'm convinced atm that it's probably safe to assume that both amplitude and phase, when being affected by a gaussian noise source, can safely infer that different frequencies will have the errors in their amplitude and phase be independent of one another. This is based on the lack of observed 'holes' in the data set.\n",
    "\n",
    "Note, we don't get a 'square' density distribution because the product of tow gaussian probabilities is a 2 dimensional gaussian probability."
   ]
  },
  {
   "cell_type": "markdown",
   "metadata": {},
   "source": [
    "Alright now what? One fun thing to do would be to prove that both phase and amplitude for different frequencies are actually indpendent of each other, and extract their distribution (phase is wonky since it wraps, may need to 'unravel' the phase to prove it correctly).\n",
    "\n",
    "Also, we might want to recall what happens when we try to match an off frequency $(\\omega +d\\omega) t$.\n",
    "\n",
    "$$ \\int \\sin(\\omega_1 t)\\sin(\\omega_2t)dt = -\\frac{1}{\\omega_1}\\cos(\\omega_1 t)\\sin(\\omega_2 t)\\vert^{2\\pi}_0 + \\int\\frac{\\omega_2}{\\omega_1}\\cos(\\omega_1 t)\\cos(\\omega_2 t)dt$$"
   ]
  },
  {
   "cell_type": "markdown",
   "metadata": {},
   "source": [
    "$$=-\\frac{d\\omega_2}{\\omega_1}+\\frac{\\omega_2}{\\omega_1^2}sin(\\omega_1 t)cos(\\omega_2 t) - $$\n",
    "TBF\n"
   ]
  },
  {
   "cell_type": "markdown",
   "metadata": {},
   "source": [
    "Also, we're going to assume that the error in the amplitude and phase are independent of each other."
   ]
  },
  {
   "cell_type": "code",
   "execution_count": null,
   "metadata": {
    "collapsed": true
   },
   "outputs": [],
   "source": []
  }
 ],
 "metadata": {
  "kernelspec": {
   "display_name": "Python 2",
   "language": "python",
   "name": "python2"
  },
  "language_info": {
   "codemirror_mode": {
    "name": "ipython",
    "version": 2
   },
   "file_extension": ".py",
   "mimetype": "text/x-python",
   "name": "python",
   "nbconvert_exporter": "python",
   "pygments_lexer": "ipython2",
   "version": "2.7.13"
  }
 },
 "nbformat": 4,
 "nbformat_minor": 1
}
