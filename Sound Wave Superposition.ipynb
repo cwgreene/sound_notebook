{
 "cells": [
  {
   "cell_type": "markdown",
   "metadata": {},
   "source": [
    "# Sound Waves Superposition"
   ]
  },
  {
   "cell_type": "markdown",
   "metadata": {},
   "source": [
    "So the first soundwave will be of the form\n",
    "\n",
    "$$ f_1(x, t) = f_1(kx-\\omega t) $$\n",
    "\n",
    "and the second will be\n",
    "\n",
    "\n",
    "$$ f_2(x, t) = f_2(kx-\\omega t) $$\n",
    "\n",
    "At the point $x$ at time $t$ the observed soundwave will be\n",
    "\n",
    "$$ f(x,t) = f_1(k(x-x_1) - \\omega t) + f_2(k(x-x_2) - \\omega t) $$"
   ]
  },
  {
   "cell_type": "markdown",
   "metadata": {},
   "source": [
    "If $f_1$ and $f_2$ are the same frequency, then we'll observe a position dependent phase shift.\n",
    "\n"
   ]
  },
  {
   "cell_type": "markdown",
   "metadata": {},
   "source": [
    "$$ \\begin{align}\n",
    "sin(k(x-x_1) - \\omega t) + sin(k(x-x_2) - \\omega t) = \\\\\n",
    "sin(a) + sin(b) = \n",
    "\\end{align}\n",
    "$$"
   ]
  },
  {
   "cell_type": "markdown",
   "metadata": {},
   "source": [
    "## Phasors... Shit, how do these work again?"
   ]
  },
  {
   "cell_type": "markdown",
   "metadata": {},
   "source": [
    "And here I realize that I can no longer remember why adding two sinusoids together naturally results in a phase shifted sin function, or even how the whole ... what's it called? The vectory thingies that we use... phasors!"
   ]
  },
  {
   "cell_type": "markdown",
   "metadata": {},
   "source": [
    "\n",
    "Right, phasors. I remember that phasors let me add together two sinuosoids to get a new one, but I'm trying to remember why this should be obvious... :("
   ]
  },
  {
   "cell_type": "markdown",
   "metadata": {},
   "source": [
    "Right; Phasors are basically just going from\n",
    "\n",
    "$$ sin(t + \\phi) = sin(t)cos(\\phi) + sin(\\phi)cos(t) $$\n",
    "\n",
    "In reverse (right hand side to left hand side ($\\leftarrow$)), where we simply recast the $\\phi$..."
   ]
  },
  {
   "cell_type": "markdown",
   "metadata": {},
   "source": [
    "Screw that! I've forgotten the golden rule: \"Never work with sinusoids when you can work with exponentials. Everything is so much more obvious when you're in the complex plane\""
   ]
  },
  {
   "cell_type": "markdown",
   "metadata": {},
   "source": [
    "$$\n",
    "\\begin{align}\n",
    "sin(\\omega t + \\phi) + sin(\\omega t + \\phi_2)= \\frac{e^{j(\\omega t + \\phi)} - e^{j(\\omega t+\\phi)}}{2i} + \\frac{e^{j(\\omega t + \\phi_2)} - e^{j(\\omega t+\\phi_2)}}{2i} \n",
    "\\end{align}\n",
    "$$"
   ]
  },
  {
   "cell_type": "markdown",
   "metadata": {},
   "source": [
    "$$\n",
    "= \\frac{e^{j\\omega t}e^{j\\phi} - e^{j\\omega t}e^{\\phi}}{2i}\n",
    "+ \\frac{e^{j\\omega t}e^{j\\phi_2} - e^{j\\omega t}e^{\\phi_2}}{2i}\\\\\n",
    "$$"
   ]
  },
  {
   "cell_type": "markdown",
   "metadata": {},
   "source": [
    "$$=\\frac{e^{jwt}(e^{j\\phi}+e^{j\\phi_2}) - e^{j\\omega t}(e^{j\\phi}+e^{j\\phi_2})}{2i}$$"
   ]
  },
  {
   "cell_type": "markdown",
   "metadata": {},
   "source": [
    "So it's a sinusoid again! Huzzah! All we have to do is resolve the complex addition of $e^{j\\phi} + e^{j\\phi_2}$ and turn that back into something of the form $A e^{j\\phi_3}$ and we're done! Now we remember why we made little triangle diagrams back in the day!"
   ]
  },
  {
   "cell_type": "markdown",
   "metadata": {},
   "source": [
    "## Alright, Back to work!\n",
    "So what we can do now is get an expression of phase in terms of $x_1$, $x_2$, and $\\phi_1$ and $\\phi_2$. That's not super useful! Ignoring the issue of $\\phi_1$ and $\\phi_2$ for a moment (that's basically the phase shift caused by the two devices starting up, and theoretically could be resolved by sending that information over wifi, but lets call those time offsets $t_1$ and $t_2$) we still have $x_1$ and $x_2$, so we would still have two unknowns. However, if we introduce a second frequency, we can resolve this!"
   ]
  },
  {
   "cell_type": "markdown",
   "metadata": {},
   "source": [
    "So with a single frequency we get\n",
    "$$e^{j\\phi_1}+e^{j\\phi_2}$$\n",
    "$$\\phi_1 = k(x-x_1) + \\omega t_1$$\n",
    "$$\\phi_2 = k(x-x_2) + \\omega t_2$$\n",
    "$$Ae^{j\\phi_3} = (\\cos(\\phi_1) + \\cos(\\phi_2))+(\\sin(\\phi_1)+\\sin(\\phi_2))j$$\n",
    "$$\\phi_3 = \\tan^{-1}\\frac{\\sin(\\phi_1)+\\sin(\\phi_2)}{\\cos(\\phi_1)+\\cos(\\phi_2)}$$\n",
    "$$A = \\sqrt{(\\cos^2\\phi_1+\\sin^2\\phi_1)+(\\cos^2\\phi_2+\\sin^2\\phi_1) + (2\\cos\\phi_1\\cos\\phi_2+2\\sin\\phi_1\\sin\\phi_2)}\\\\=\\sqrt{2-2\\cos(\\phi_1-\\phi_2)} (wrong!)$$\n"
   ]
  },
  {
   "cell_type": "markdown",
   "metadata": {},
   "source": [
    "\n",
    "That last equation looks wrong. It's 0 if $\\phi_1=\\phi_2$ and I don't see why that should be the case. If $\\phi_1$ and $\\phi_2$ are equal, it should be complete constructive interference. I'd be fine if it were $\\sin$, but it's $\\cos$ so I'm a bit confused.\n",
    "\n",
    "Actually, if I flip the sign, it works, because then it's $4$ when they're equal, which is what we actually want; however, I can't figure out why it's not negative now. (we make it negative by making the two functions $180^\\circ$ out of phase, which is definitely what we want.\n",
    "\n",
    "It's wrong becuase there no reason for it to be negative. Flipping the sign inside cosine doesn't affect the sign OUTSIDE! D'uh!"
   ]
  },
  {
   "cell_type": "markdown",
   "metadata": {},
   "source": [
    "$$A = \\sqrt{2+2\\cos(\\phi_1-\\phi_2)}$$\n",
    "\n",
    "And there was much rejoicing!\n",
    "\n",
    "Now plugging back in values for the $\\phi$'s:\n",
    "\n",
    "$$A = \\sqrt{2}\\sqrt{1+\\cos(k(x_2-x_1) + \\omega (t_1-t_2))}$$\n",
    "$$A = \\sqrt{2}\\sqrt{1+\\cos(k\\Delta x - \\omega\\Delta t)}$$"
   ]
  },
  {
   "cell_type": "markdown",
   "metadata": {},
   "source": [
    "Unfortunately, we can only use that equation so much; because if the amplitudes of the two waves are different, $A$ is no where nearly so nice, we have to go back to the full equation and instead get:\n",
    "\n",
    "$$C = \\sqrt{A^2+B^2 + AB\\cos\\phi_1\\cos\\phi_2 + AB\\sin\\phi_1\\phi_2}$$"
   ]
  },
  {
   "cell_type": "markdown",
   "metadata": {},
   "source": [
    "Oh, that actually isn't bad at all! It simplifies to\n",
    "\n",
    "$$C = \\sqrt{A^2+B^2 + AB\\cos(\\phi_1-\\phi_2)}$$\n",
    "$$C = \\sqrt{A^2+B^2 + AB\\cos(k\\Delta x - \\omega\\Delta t)}$$"
   ]
  },
  {
   "cell_type": "markdown",
   "metadata": {},
   "source": [
    "And $\\phi_3$ likewise simply becomes:\n",
    "    \n",
    "$$\\phi_3 = \\tan^{-1}\\frac{A \\sin(\\phi_1)+B\\sin(\\phi_2)}{A\\cos(\\phi_1)+B\\cos(\\phi_2)}$$"
   ]
  },
  {
   "cell_type": "markdown",
   "metadata": {},
   "source": [
    "Okay, again, assuming that $\\Delta t$ can be assume to be known, we can either attempt to solve the measured $\\phi_3$ phase shift equation and the Amplitude equation. I'd rather just solve multiple phase shift equations, because I suspect that they'll be less noisy than the amplitude signal. However, we can clearly see that we need the original amplitudes of $A$ and $B$ anyhow, and the relative shift will be ultitimately be affected by volume drop off (which I've been completely ignoring). Oh noes!"
   ]
  },
  {
   "cell_type": "code",
   "execution_count": null,
   "metadata": {
    "collapsed": true
   },
   "outputs": [],
   "source": []
  }
 ],
 "metadata": {
  "kernelspec": {
   "display_name": "Python 2",
   "language": "python",
   "name": "python2"
  },
  "language_info": {
   "codemirror_mode": {
    "name": "ipython",
    "version": 2
   },
   "file_extension": ".py",
   "mimetype": "text/x-python",
   "name": "python",
   "nbconvert_exporter": "python",
   "pygments_lexer": "ipython2",
   "version": "2.7.12"
  }
 },
 "nbformat": 4,
 "nbformat_minor": 0
}
